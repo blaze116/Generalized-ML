{
 "cells": [
  {
   "cell_type": "code",
   "execution_count": 1,
   "id": "504a11d0",
   "metadata": {},
   "outputs": [
    {
     "name": "stdout",
     "output_type": "stream",
     "text": [
      "adding code here too\n"
     ]
    }
   ],
   "source": [
    "print(\"adding code here too\")"
   ]
  },
  {
   "cell_type": "code",
   "execution_count": null,
   "id": "c3c6cc01",
   "metadata": {},
   "outputs": [],
   "source": []
  }
 ],
 "metadata": {
  "kernelspec": {
   "display_name": "Python 3",
   "language": "python",
   "name": "python3"
  },
  "language_info": {
   "codemirror_mode": {
    "name": "ipython",
    "version": 3
   },
   "file_extension": ".py",
   "mimetype": "text/x-python",
   "name": "python",
   "nbconvert_exporter": "python",
   "pygments_lexer": "ipython3",
   "version": "3.13.5"
  }
 },
 "nbformat": 4,
 "nbformat_minor": 5
}
